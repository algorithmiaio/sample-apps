{
 "cells": [
  {
   "cell_type": "markdown",
   "metadata": {},
   "source": [
    "# Classifying Text with Tensorflow & Deploying with Algorithmia\n",
    "\n",
    "This notebook aims to show how you can deploy a tensorflow model to Algorithmia."
   ]
  },
  {
   "cell_type": "markdown",
   "metadata": {},
   "source": [
    "## 1. Setup virtual environment & install packages\n",
    "\n",
    "Setup a virtual environment using Python 3.6 (conda works great)\n",
    "\n",
    "Pip install the following packages in your environment:\n",
    "\n",
    "* tensorflow==1.12.0\n",
    "* algorithmia==1.1.4\n",
    "* jupyter==1.0.0\n",
    "* gitpython==2.1.11\n",
    "* matplotlib==3.0.2\n",
    "* urllib3==1.24.1\n",
    "* retry==0.9.2\n",
    "* joblib==0.13.2\n",
    "* numpy==1.16.0"
   ]
  },
  {
   "cell_type": "markdown",
   "metadata": {},
   "source": [
    "## 1. Imports for Tensorflow\n",
    "\n",
    "Let's now import everything we need to download our dataset and train our model:"
   ]
  },
  {
   "cell_type": "code",
   "execution_count": 1,
   "metadata": {},
   "outputs": [
    {
     "name": "stdout",
     "output_type": "stream",
     "text": [
      "Installed Tensorflow version: 1.12.0\n"
     ]
    }
   ],
   "source": [
    "from __future__ import absolute_import, division, print_function\n",
    "import tensorflow as tf\n",
    "from tensorflow import keras\n",
    "import numpy as np\n",
    "from retry import retry\n",
    "\n",
    "print(\"Installed Tensorflow version: {}\".format(tf.__version__))"
   ]
  },
  {
   "cell_type": "markdown",
   "metadata": {},
   "source": [
    "## 2. Dowload the IMDB dataset\n",
    "\n",
    "Let's download the IMDB dataset using the keras built-in datasets tool:"
   ]
  },
  {
   "cell_type": "code",
   "execution_count": 2,
   "metadata": {},
   "outputs": [
    {
     "name": "stdout",
     "output_type": "stream",
     "text": [
      "Downloading the IMDB dataset...\n",
      "Download complete!\n"
     ]
    }
   ],
   "source": [
    "imdb = keras.datasets.imdb\n",
    "\n",
    "print(\"Downloading the IMDB dataset...\")\n",
    "\n",
    "(train_data, train_labels), (test_data, test_labels) = imdb.load_data(num_words=10000)\n",
    "\n",
    "print(\"Download complete!\")"
   ]
  },
  {
   "cell_type": "markdown",
   "metadata": {},
   "source": [
    "## 3. Explore the data\n",
    "\n",
    "Let's see how many reviews we have in our dataset:"
   ]
  },
  {
   "cell_type": "code",
   "execution_count": 3,
   "metadata": {},
   "outputs": [
    {
     "name": "stdout",
     "output_type": "stream",
     "text": [
      "Training entries: 25000, labels: 25000\n"
     ]
    }
   ],
   "source": [
    "print(\"Training entries: {}, labels: {}\".format(len(train_data), len(train_labels)))"
   ]
  },
  {
   "cell_type": "markdown",
   "metadata": {},
   "source": [
    "Let's preview the first entry in the dataset:"
   ]
  },
  {
   "cell_type": "code",
   "execution_count": 4,
   "metadata": {
    "scrolled": true
   },
   "outputs": [
    {
     "name": "stdout",
     "output_type": "stream",
     "text": [
      "[1, 14, 22, 16, 43, 530, 973, 1622, 1385, 65, 458, 4468, 66, 3941, 4, 173, 36, 256, 5, 25, 100, 43, 838, 112, 50, 670, 2, 9, 35, 480, 284, 5, 150, 4, 172, 112, 167, 2, 336, 385, 39, 4, 172, 4536, 1111, 17, 546, 38, 13, 447, 4, 192, 50, 16, 6, 147, 2025, 19, 14, 22, 4, 1920, 4613, 469, 4, 22, 71, 87, 12, 16, 43, 530, 38, 76, 15, 13, 1247, 4, 22, 17, 515, 17, 12, 16, 626, 18, 2, 5, 62, 386, 12, 8, 316, 8, 106, 5, 4, 2223, 5244, 16, 480, 66, 3785, 33, 4, 130, 12, 16, 38, 619, 5, 25, 124, 51, 36, 135, 48, 25, 1415, 33, 6, 22, 12, 215, 28, 77, 52, 5, 14, 407, 16, 82, 2, 8, 4, 107, 117, 5952, 15, 256, 4, 2, 7, 3766, 5, 723, 36, 71, 43, 530, 476, 26, 400, 317, 46, 7, 4, 2, 1029, 13, 104, 88, 4, 381, 15, 297, 98, 32, 2071, 56, 26, 141, 6, 194, 7486, 18, 4, 226, 22, 21, 134, 476, 26, 480, 5, 144, 30, 5535, 18, 51, 36, 28, 224, 92, 25, 104, 4, 226, 65, 16, 38, 1334, 88, 12, 16, 283, 5, 16, 4472, 113, 103, 32, 15, 16, 5345, 19, 178, 32]\n"
     ]
    }
   ],
   "source": [
    "print(train_data[0])"
   ]
  },
  {
   "cell_type": "markdown",
   "metadata": {},
   "source": [
    "Before you can start training, you need to make sure all of your reviews are vectorized. Fortunately, our dataset is already vectorized.\n",
    "\n",
    "Let's also check the vector lengths of the first two reviews:"
   ]
  },
  {
   "cell_type": "code",
   "execution_count": 5,
   "metadata": {},
   "outputs": [
    {
     "name": "stdout",
     "output_type": "stream",
     "text": [
      "First vector length: 218\n",
      "Second vector length: 189\n"
     ]
    }
   ],
   "source": [
    "print(\"First vector length: {}\".format(len(train_data[0])))\n",
    "print(\"Second vector length: {}\".format(len(train_data[1])))"
   ]
  },
  {
   "cell_type": "markdown",
   "metadata": {},
   "source": [
    "As you can see, they're not fixed-length. This is an issue, as most models can't handle variable-length vectors.\n",
    "\n",
    "We need to later fix them to a static size."
   ]
  },
  {
   "cell_type": "markdown",
   "metadata": {},
   "source": [
    "## 4. Convert the integers back to words\n",
    "\n",
    "Before we fix the lengths of vectors, let's first confirm that these vectors are indeed movie reviews.\n",
    "\n",
    "Our dataset comes with a word index. We can use this to decode movie vectors.\n",
    "\n",
    "Let's write a function called `decode_review(text)` that can decode vectors back into movie reviews."
   ]
  },
  {
   "cell_type": "code",
   "execution_count": 6,
   "metadata": {},
   "outputs": [],
   "source": [
    "# A dictionary mapping words to an integer index\n",
    "word_index = imdb.get_word_index()\n",
    "\n",
    "# The first indices are reserved\n",
    "word_index = {k:(v+3) for k,v in word_index.items()} \n",
    "word_index[\"<PAD>\"] = 0\n",
    "word_index[\"<START>\"] = 1\n",
    "word_index[\"<UNK>\"] = 2  # unknown\n",
    "word_index[\"<UNUSED>\"] = 3\n",
    "\n",
    "reverse_word_index = dict([(value, key) for (key, value) in word_index.items()])\n",
    "\n",
    "def decode_review(text):\n",
    "    return ' '.join([reverse_word_index.get(i, '?') for i in text])"
   ]
  },
  {
   "cell_type": "markdown",
   "metadata": {},
   "source": [
    "Now let's check the texrt version of the first review:"
   ]
  },
  {
   "cell_type": "code",
   "execution_count": 7,
   "metadata": {},
   "outputs": [
    {
     "data": {
      "text/plain": [
       "\"<START> this film was just brilliant casting location scenery story direction everyone's really suited the part they played and you could just imagine being there robert <UNK> is an amazing actor and now the same being director <UNK> father came from the same scottish island as myself so i loved the fact there was a real connection with this film the witty remarks throughout the film were great it was just brilliant so much that i bought the film as soon as it was released for <UNK> and would recommend it to everyone to watch and the fly fishing was amazing really cried at the end it was so sad and you know what they say if you cry at a film it must have been good and this definitely was also <UNK> to the two little boy's that played the <UNK> of norman and paul they were just brilliant children are often left out of the <UNK> list i think because the stars that play them all grown up are such a big profile for the whole film but these children are amazing and should be praised for what they have done don't you think the whole story was so lovely because it was true and was someone's life after all that was shared with us all\""
      ]
     },
     "execution_count": 7,
     "metadata": {},
     "output_type": "execute_result"
    }
   ],
   "source": [
    "decode_review(train_data[0])"
   ]
  },
  {
   "cell_type": "markdown",
   "metadata": {},
   "source": [
    "## 5. Prepare the data\n",
    "\n",
    "Now it's time to create the training & testing datasets.\n",
    "\n",
    "We're also going to resize our vectors up to 256. We'll add `<PAD>` tokens to fill them up:"
   ]
  },
  {
   "cell_type": "code",
   "execution_count": 8,
   "metadata": {},
   "outputs": [],
   "source": [
    "train_data = keras.preprocessing.sequence.pad_sequences(train_data,\n",
    "                                                        value=word_index[\"<PAD>\"],\n",
    "                                                        padding='post',\n",
    "                                                        maxlen=256)\n",
    "\n",
    "test_data = keras.preprocessing.sequence.pad_sequences(test_data,\n",
    "                                                       value=word_index[\"<PAD>\"],\n",
    "                                                       padding='post',\n",
    "                                                       maxlen=256)"
   ]
  },
  {
   "cell_type": "markdown",
   "metadata": {},
   "source": [
    "Let's now confirm the new vector sizes:"
   ]
  },
  {
   "cell_type": "code",
   "execution_count": 9,
   "metadata": {},
   "outputs": [
    {
     "name": "stdout",
     "output_type": "stream",
     "text": [
      "First vector length: 256\n",
      "Second vector length: 256\n"
     ]
    }
   ],
   "source": [
    "print(\"First vector length: {}\".format(len(train_data[0])))\n",
    "print(\"Second vector length: {}\".format(len(train_data[1])))"
   ]
  },
  {
   "cell_type": "markdown",
   "metadata": {},
   "source": [
    "Let's also confirm that the first vector has been padded:"
   ]
  },
  {
   "cell_type": "code",
   "execution_count": 10,
   "metadata": {
    "scrolled": true
   },
   "outputs": [
    {
     "name": "stdout",
     "output_type": "stream",
     "text": [
      "[   1   14   22   16   43  530  973 1622 1385   65  458 4468   66 3941\n",
      "    4  173   36  256    5   25  100   43  838  112   50  670    2    9\n",
      "   35  480  284    5  150    4  172  112  167    2  336  385   39    4\n",
      "  172 4536 1111   17  546   38   13  447    4  192   50   16    6  147\n",
      " 2025   19   14   22    4 1920 4613  469    4   22   71   87   12   16\n",
      "   43  530   38   76   15   13 1247    4   22   17  515   17   12   16\n",
      "  626   18    2    5   62  386   12    8  316    8  106    5    4 2223\n",
      " 5244   16  480   66 3785   33    4  130   12   16   38  619    5   25\n",
      "  124   51   36  135   48   25 1415   33    6   22   12  215   28   77\n",
      "   52    5   14  407   16   82    2    8    4  107  117 5952   15  256\n",
      "    4    2    7 3766    5  723   36   71   43  530  476   26  400  317\n",
      "   46    7    4    2 1029   13  104   88    4  381   15  297   98   32\n",
      " 2071   56   26  141    6  194 7486   18    4  226   22   21  134  476\n",
      "   26  480    5  144   30 5535   18   51   36   28  224   92   25  104\n",
      "    4  226   65   16   38 1334   88   12   16  283    5   16 4472  113\n",
      "  103   32   15   16 5345   19  178   32    0    0    0    0    0    0\n",
      "    0    0    0    0    0    0    0    0    0    0    0    0    0    0\n",
      "    0    0    0    0    0    0    0    0    0    0    0    0    0    0\n",
      "    0    0    0    0]\n"
     ]
    }
   ],
   "source": [
    "print(train_data[0])"
   ]
  },
  {
   "cell_type": "markdown",
   "metadata": {},
   "source": [
    "As you can see above, the vectors has been padded w/ zeros."
   ]
  },
  {
   "cell_type": "markdown",
   "metadata": {},
   "source": [
    "## 6. Build the model\n",
    "\n",
    "Now we can define our model layers:"
   ]
  },
  {
   "cell_type": "code",
   "execution_count": 11,
   "metadata": {},
   "outputs": [
    {
     "name": "stdout",
     "output_type": "stream",
     "text": [
      "_________________________________________________________________\n",
      "Layer (type)                 Output Shape              Param #   \n",
      "=================================================================\n",
      "embedding (Embedding)        (None, None, 16)          160000    \n",
      "_________________________________________________________________\n",
      "global_average_pooling1d (Gl (None, 16)                0         \n",
      "_________________________________________________________________\n",
      "dense (Dense)                (None, 16)                272       \n",
      "_________________________________________________________________\n",
      "dense_1 (Dense)              (None, 1)                 17        \n",
      "=================================================================\n",
      "Total params: 160,289\n",
      "Trainable params: 160,289\n",
      "Non-trainable params: 0\n",
      "_________________________________________________________________\n"
     ]
    }
   ],
   "source": [
    "# input shape is the vocabulary count used for the movie reviews (10,000 words)\n",
    "vocab_size = 10000\n",
    "\n",
    "model = keras.Sequential()\n",
    "model.add(keras.layers.Embedding(vocab_size, 16))\n",
    "model.add(keras.layers.GlobalAveragePooling1D())\n",
    "model.add(keras.layers.Dense(16, activation=tf.nn.relu))\n",
    "model.add(keras.layers.Dense(1, activation=tf.nn.sigmoid))\n",
    "\n",
    "model.summary()"
   ]
  },
  {
   "cell_type": "markdown",
   "metadata": {},
   "source": [
    "Let's select our optimizer, loss function & metric:"
   ]
  },
  {
   "cell_type": "code",
   "execution_count": 12,
   "metadata": {},
   "outputs": [],
   "source": [
    "model.compile(optimizer='adam',\n",
    "              loss='binary_crossentropy',\n",
    "              metrics=['accuracy'])"
   ]
  },
  {
   "cell_type": "markdown",
   "metadata": {},
   "source": [
    "Our model is now ready to train."
   ]
  },
  {
   "cell_type": "markdown",
   "metadata": {},
   "source": [
    "## 7. Create a validation set\n",
    "\n",
    "We need to create a validation dataset that will be used for training:"
   ]
  },
  {
   "cell_type": "code",
   "execution_count": 13,
   "metadata": {},
   "outputs": [],
   "source": [
    "x_val = train_data[:10000]\n",
    "partial_x_train = train_data[10000:]\n",
    "\n",
    "y_val = train_labels[:10000]\n",
    "partial_y_train = train_labels[10000:]"
   ]
  },
  {
   "cell_type": "markdown",
   "metadata": {},
   "source": [
    "## 8. Train the model\n",
    "\n",
    "We can now train our model:"
   ]
  },
  {
   "cell_type": "code",
   "execution_count": 14,
   "metadata": {},
   "outputs": [
    {
     "name": "stderr",
     "output_type": "stream",
     "text": [
      "/Users/besirkurtulmus/Desktop/notebooks/venv3.6/lib/python3.6/site-packages/tensorflow/python/ops/gradients_impl.py:112: UserWarning: Converting sparse IndexedSlices to a dense Tensor of unknown shape. This may consume a large amount of memory.\n",
      "  \"Converting sparse IndexedSlices to a dense Tensor of unknown shape. \"\n"
     ]
    },
    {
     "name": "stdout",
     "output_type": "stream",
     "text": [
      "Train on 15000 samples, validate on 10000 samples\n",
      "Epoch 1/40\n",
      "15000/15000 [==============================] - 1s 44us/step - loss: 0.6916 - acc: 0.6241 - val_loss: 0.6894 - val_acc: 0.6664\n",
      "Epoch 2/40\n",
      "15000/15000 [==============================] - 0s 26us/step - loss: 0.6853 - acc: 0.7150 - val_loss: 0.6809 - val_acc: 0.7366\n",
      "Epoch 3/40\n",
      "15000/15000 [==============================] - 0s 23us/step - loss: 0.6723 - acc: 0.7564 - val_loss: 0.6649 - val_acc: 0.7512\n",
      "Epoch 4/40\n",
      "15000/15000 [==============================] - 0s 23us/step - loss: 0.6499 - acc: 0.7671 - val_loss: 0.6402 - val_acc: 0.7604\n",
      "Epoch 5/40\n",
      "15000/15000 [==============================] - 0s 23us/step - loss: 0.6173 - acc: 0.7920 - val_loss: 0.6053 - val_acc: 0.7843\n",
      "Epoch 6/40\n",
      "15000/15000 [==============================] - 0s 23us/step - loss: 0.5757 - acc: 0.8117 - val_loss: 0.5644 - val_acc: 0.8011\n",
      "Epoch 7/40\n",
      "15000/15000 [==============================] - 0s 23us/step - loss: 0.5286 - acc: 0.8306 - val_loss: 0.5211 - val_acc: 0.8190\n",
      "Epoch 8/40\n",
      "15000/15000 [==============================] - 0s 23us/step - loss: 0.4813 - acc: 0.8453 - val_loss: 0.4796 - val_acc: 0.8328\n",
      "Epoch 9/40\n",
      "15000/15000 [==============================] - 0s 23us/step - loss: 0.4374 - acc: 0.8579 - val_loss: 0.4423 - val_acc: 0.8414\n",
      "Epoch 10/40\n",
      "15000/15000 [==============================] - 0s 23us/step - loss: 0.3976 - acc: 0.8722 - val_loss: 0.4109 - val_acc: 0.8493\n",
      "Epoch 11/40\n",
      "15000/15000 [==============================] - 0s 23us/step - loss: 0.3643 - acc: 0.8811 - val_loss: 0.3877 - val_acc: 0.8560\n",
      "Epoch 12/40\n",
      "15000/15000 [==============================] - 0s 23us/step - loss: 0.3368 - acc: 0.8880 - val_loss: 0.3649 - val_acc: 0.8649\n",
      "Epoch 13/40\n",
      "15000/15000 [==============================] - 0s 23us/step - loss: 0.3120 - acc: 0.8957 - val_loss: 0.3492 - val_acc: 0.8686\n",
      "Epoch 14/40\n",
      "15000/15000 [==============================] - 0s 23us/step - loss: 0.2916 - acc: 0.9011 - val_loss: 0.3354 - val_acc: 0.8733\n",
      "Epoch 15/40\n",
      "15000/15000 [==============================] - 0s 22us/step - loss: 0.2740 - acc: 0.9056 - val_loss: 0.3249 - val_acc: 0.8751\n",
      "Epoch 16/40\n",
      "15000/15000 [==============================] - 0s 22us/step - loss: 0.2590 - acc: 0.9097 - val_loss: 0.3162 - val_acc: 0.8761\n",
      "Epoch 17/40\n",
      "15000/15000 [==============================] - 0s 22us/step - loss: 0.2445 - acc: 0.9160 - val_loss: 0.3092 - val_acc: 0.8770\n",
      "Epoch 18/40\n",
      "15000/15000 [==============================] - 0s 24us/step - loss: 0.2320 - acc: 0.9210 - val_loss: 0.3033 - val_acc: 0.8806\n",
      "Epoch 19/40\n",
      "15000/15000 [==============================] - 0s 23us/step - loss: 0.2204 - acc: 0.9249 - val_loss: 0.2987 - val_acc: 0.8822\n",
      "Epoch 20/40\n",
      "15000/15000 [==============================] - 0s 23us/step - loss: 0.2101 - acc: 0.9277 - val_loss: 0.2948 - val_acc: 0.8829\n",
      "Epoch 21/40\n",
      "15000/15000 [==============================] - 0s 23us/step - loss: 0.2002 - acc: 0.9317 - val_loss: 0.2918 - val_acc: 0.8831\n",
      "Epoch 22/40\n",
      "15000/15000 [==============================] - 0s 23us/step - loss: 0.1911 - acc: 0.9356 - val_loss: 0.2897 - val_acc: 0.8844\n",
      "Epoch 23/40\n",
      "15000/15000 [==============================] - 0s 23us/step - loss: 0.1828 - acc: 0.9396 - val_loss: 0.2884 - val_acc: 0.8843\n",
      "Epoch 24/40\n",
      "15000/15000 [==============================] - 0s 23us/step - loss: 0.1745 - acc: 0.9439 - val_loss: 0.2865 - val_acc: 0.8844\n",
      "Epoch 25/40\n",
      "15000/15000 [==============================] - 0s 24us/step - loss: 0.1673 - acc: 0.9467 - val_loss: 0.2857 - val_acc: 0.8850\n",
      "Epoch 26/40\n",
      "15000/15000 [==============================] - 0s 23us/step - loss: 0.1600 - acc: 0.9492 - val_loss: 0.2857 - val_acc: 0.8851\n",
      "Epoch 27/40\n",
      "15000/15000 [==============================] - 0s 23us/step - loss: 0.1539 - acc: 0.9524 - val_loss: 0.2862 - val_acc: 0.8849\n",
      "Epoch 28/40\n",
      "15000/15000 [==============================] - 0s 23us/step - loss: 0.1475 - acc: 0.9555 - val_loss: 0.2859 - val_acc: 0.8864\n",
      "Epoch 29/40\n",
      "15000/15000 [==============================] - 0s 23us/step - loss: 0.1416 - acc: 0.9564 - val_loss: 0.2864 - val_acc: 0.8861\n",
      "Epoch 30/40\n",
      "15000/15000 [==============================] - 0s 23us/step - loss: 0.1365 - acc: 0.9593 - val_loss: 0.2877 - val_acc: 0.8861\n",
      "Epoch 31/40\n",
      "15000/15000 [==============================] - 0s 23us/step - loss: 0.1303 - acc: 0.9612 - val_loss: 0.2892 - val_acc: 0.8861\n",
      "Epoch 32/40\n",
      "15000/15000 [==============================] - 0s 23us/step - loss: 0.1256 - acc: 0.9634 - val_loss: 0.2910 - val_acc: 0.8853\n",
      "Epoch 33/40\n",
      "15000/15000 [==============================] - 0s 23us/step - loss: 0.1201 - acc: 0.9659 - val_loss: 0.2929 - val_acc: 0.8862\n",
      "Epoch 34/40\n",
      "15000/15000 [==============================] - 0s 23us/step - loss: 0.1156 - acc: 0.9677 - val_loss: 0.2954 - val_acc: 0.8852\n",
      "Epoch 35/40\n",
      "15000/15000 [==============================] - 0s 21us/step - loss: 0.1115 - acc: 0.9690 - val_loss: 0.2971 - val_acc: 0.8848\n",
      "Epoch 36/40\n",
      "15000/15000 [==============================] - 0s 21us/step - loss: 0.1065 - acc: 0.9709 - val_loss: 0.3001 - val_acc: 0.8837\n",
      "Epoch 37/40\n",
      "15000/15000 [==============================] - 0s 21us/step - loss: 0.1026 - acc: 0.9719 - val_loss: 0.3029 - val_acc: 0.8836\n",
      "Epoch 38/40\n",
      "15000/15000 [==============================] - 0s 21us/step - loss: 0.0991 - acc: 0.9722 - val_loss: 0.3061 - val_acc: 0.8829\n",
      "Epoch 39/40\n",
      "15000/15000 [==============================] - 0s 21us/step - loss: 0.0947 - acc: 0.9747 - val_loss: 0.3085 - val_acc: 0.8823\n",
      "Epoch 40/40\n",
      "15000/15000 [==============================] - 0s 21us/step - loss: 0.0909 - acc: 0.9767 - val_loss: 0.3119 - val_acc: 0.8818\n"
     ]
    }
   ],
   "source": [
    "history = model.fit(partial_x_train,\n",
    "                    partial_y_train,\n",
    "                    epochs=40,\n",
    "                    batch_size=512,\n",
    "                    validation_data=(x_val, y_val),\n",
    "                    verbose=1)"
   ]
  },
  {
   "cell_type": "markdown",
   "metadata": {},
   "source": [
    "## 9. Evaluate the model\n",
    "\n",
    "Let's now get the loss & accuracy of our model using our test dataset:"
   ]
  },
  {
   "cell_type": "code",
   "execution_count": 15,
   "metadata": {},
   "outputs": [
    {
     "name": "stdout",
     "output_type": "stream",
     "text": [
      "25000/25000 [==============================] - 0s 16us/step\n",
      "Loss: 0.3325334543180466, Accuracy: 0.87228\n"
     ]
    }
   ],
   "source": [
    "results = model.evaluate(test_data, test_labels)\n",
    "\n",
    "print(\"Loss: {}, Accuracy: {}\".format(results[0], results[1]))"
   ]
  },
  {
   "cell_type": "markdown",
   "metadata": {},
   "source": [
    "## 10. Create a graph of accuracy and loss over time\n",
    "\n",
    "Let's also visually see the how our model has trained over time.\n",
    "\n",
    "We'll graph two things:\n",
    "\n",
    "* Training and validation loss\n",
    "* Training and validation accuracy"
   ]
  },
  {
   "cell_type": "code",
   "execution_count": 16,
   "metadata": {},
   "outputs": [
    {
     "data": {
      "image/png": "[encoded data removed]",
      "text/plain": [
       "<Figure size 432x288 with 1 Axes>"
      ]
     },
     "metadata": {
      "needs_background": "light"
     },
     "output_type": "display_data"
    }
   ],
   "source": [
    "%matplotlib inline\n",
    "import matplotlib.pyplot as plt\n",
    "\n",
    "history_dict = history.history\n",
    "\n",
    "acc = history_dict['acc']\n",
    "val_acc = history_dict['val_acc']\n",
    "loss = history_dict['loss']\n",
    "val_loss = history_dict['val_loss']\n",
    "\n",
    "epochs = range(1, len(acc) + 1)\n",
    "\n",
    "# \"bo\" is for \"blue dot\"\n",
    "plt.plot(epochs, loss, 'bo', label='Training loss')\n",
    "# b is for \"solid blue line\"\n",
    "plt.plot(epochs, val_loss, 'b', label='Validation loss')\n",
    "plt.title('Training and validation loss')\n",
    "plt.xlabel('Epochs')\n",
    "plt.ylabel('Loss')\n",
    "plt.legend()\n",
    "\n",
    "plt.show()"
   ]
  },
  {
   "cell_type": "code",
   "execution_count": 17,
   "metadata": {},
   "outputs": [
    {
     "data": {
      "image/png": "[encoded data removed]",
      "text/plain": [
       "<Figure size 432x288 with 1 Axes>"
      ]
     },
     "metadata": {
      "needs_background": "light"
     },
     "output_type": "display_data"
    }
   ],
   "source": [
    "plt.clf()   # clear figure\n",
    "\n",
    "plt.plot(epochs, acc, 'bo', label='Training acc')\n",
    "plt.plot(epochs, val_acc, 'b', label='Validation acc')\n",
    "plt.title('Training and validation accuracy')\n",
    "plt.xlabel('Epochs')\n",
    "plt.ylabel('Accuracy')\n",
    "plt.legend()\n",
    "\n",
    "plt.show()"
   ]
  },
  {
   "cell_type": "markdown",
   "metadata": {},
   "source": [
    "## 11. Deployment"
   ]
  },
  {
   "cell_type": "markdown",
   "metadata": {},
   "source": [
    "### Algorithmia credentials\n",
    "\n",
    "Before we can proceed, we need to setup our Algorithmia client, which will help us deploy our model.\n",
    "\n",
    "If you haven't already, you can signup on Algorithmia [here](https://algorithmia.com/signup?utm_medium=jupyter-notebook&utm_source=jupyter-notebook)."
   ]
  },
  {
   "cell_type": "code",
   "execution_count": 18,
   "metadata": {},
   "outputs": [],
   "source": [
    "import Algorithmia\n",
    "from Algorithmia.errors import AlgorithmException\n",
    "\n",
    "# Your Algorithmia API key\n",
    "api_key = \"simXXXXXXXXXXXXXXXXXXXXXXXXX\" # Create an API key with BOTH \"Read & Write Data\" and \"Manage Algorithms\": https://algorithmia.com/user#credentials\n",
    "\n",
    "# Define your username & algorithm name, this will be used later\n",
    "username = \"b\"\n",
    "algoname = \"text_classification\"\n",
    "\n",
    "# A data collection, where we'll be storing our files\n",
    "data_path = \"data://.my/mycollection\"\n",
    "\n",
    "# Create a new algorithmia client\n",
    "client = Algorithmia.client(api_key)"
   ]
  },
  {
   "cell_type": "markdown",
   "metadata": {},
   "source": [
    "Let's create our data collection on Algorithmia."
   ]
  },
  {
   "cell_type": "code",
   "execution_count": 19,
   "metadata": {},
   "outputs": [],
   "source": [
    "# Create data collection if it doesn't exist\n",
    "if not client.dir(data_path).exists():\n",
    "    client.dir(data_path).create()"
   ]
  },
  {
   "cell_type": "markdown",
   "metadata": {},
   "source": [
    "### Create local directory for algorithm files\n",
    "\n",
    "On Algorithmia, algorithms are git repositories.\n",
    "\n",
    "This enables local algorithm development.\n",
    "\n",
    "Before pushing our deployment code, we need a local work directory, so we can git clone our algorithm."
   ]
  },
  {
   "cell_type": "code",
   "execution_count": 20,
   "metadata": {},
   "outputs": [],
   "source": [
    "import os\n",
    "import shutil\n",
    "\n",
    "# Define local work directory\n",
    "local_dir = \"algo\"\n",
    "\n",
    "# Delete local directory if it already exists\n",
    "if os.path.exists(local_dir):\n",
    "    shutil.rmtree(local_dir)\n",
    "\n",
    "# Create local work directory\n",
    "os.makedirs(local_dir)"
   ]
  },
  {
   "cell_type": "markdown",
   "metadata": {},
   "source": [
    "Awesome! We now have a place to store our git repository, related files & code."
   ]
  },
  {
   "cell_type": "markdown",
   "metadata": {},
   "source": [
    "### Upload Model File\n",
    "\n",
    "We can now upload our serialized model file to our newly created data collection."
   ]
  },
  {
   "cell_type": "code",
   "execution_count": 21,
   "metadata": {},
   "outputs": [],
   "source": [
    "model_name = \"text_classification_model.h5\"\n",
    "local_model = \"{}/{}\".format(local_dir, model_name)\n",
    "data_model = \"{}/{}\".format(data_path, model_name)\n",
    "\n",
    "# Serialize the model locally\n",
    "model.save(local_model)\n",
    "\n",
    "# Upload our model file to our data collection\n",
    "_ = client.file(data_model).putFile(local_model)"
   ]
  },
  {
   "cell_type": "markdown",
   "metadata": {},
   "source": [
    "### Upload Word Index\n",
    "\n",
    "Let's also upload our word index, so we can vectorize movie reviews."
   ]
  },
  {
   "cell_type": "code",
   "execution_count": 22,
   "metadata": {},
   "outputs": [],
   "source": [
    "import pickle\n",
    "\n",
    "word_index_name = \"word_index.pickle\"\n",
    "local_word_index = \"{}/{}\".format(local_dir, word_index_name)\n",
    "data_word_index = \"{}/{}\".format(data_path, word_index_name)\n",
    "\n",
    "# Serialize (pickle) our word index\n",
    "with open(local_word_index, \"wb\") as fh:\n",
    "    pickle.dump(word_index, fh)\n",
    "\n",
    "# Upload word index file to our data collection\n",
    "_ = client.file(data_word_index).putFile(local_word_index)"
   ]
  },
  {
   "cell_type": "markdown",
   "metadata": {},
   "source": [
    "### Create a new algorithm\n",
    "\n",
    "Using the Algorithmia client, we're going to create a new algorithm.\n",
    "\n",
    "Let's define the algorithm details and settings."
   ]
  },
  {
   "cell_type": "code",
   "execution_count": 23,
   "metadata": {},
   "outputs": [
    {
     "name": "stdout",
     "output_type": "stream",
     "text": [
      "Algorithm namepace: b/text_classification\n"
     ]
    }
   ],
   "source": [
    "# Algorithms are refered with the following schema: username/algoname\n",
    "algo_namespace = \"{}/{}\".format(username, algoname)\n",
    "\n",
    "# Here are some details you can define for your algorithm\n",
    "details = {\n",
    "        \"summary\": \"Algorithm Summary\",\n",
    "        \"label\": \"Algorithm Label\",\n",
    "        \"tagline\": \"algorithm_tagline\"\n",
    "}\n",
    "\n",
    "# 1. We're making our algorithm closed-sourced – \"source_visibility\"\n",
    "# \n",
    "# 2. We're selecting a package set that has tensorflow-gpu already installed. – \"package_set\"\n",
    "#    Even though we could manually install it later, using the optimized\n",
    "#    & pre-installed image allows you to compile things faster.\n",
    "# \n",
    "# 3. We're selectig the Algorithmia Platform License (aka. \"apl\"). – \"license\"\n",
    "# \n",
    "# 4. We're giving our algorithm internet access. – \"network_access\"\n",
    "# \n",
    "# 5. We're allowing our algorithm to call other algorithms. – \"pipeline_enabled\"\n",
    "settings = {\n",
    "        \"source_visibility\": \"closed\",\n",
    "        \"package_set\": \"tensorflow-gpu-1.12\",\n",
    "        \"license\": \"apl\",\n",
    "        \"network_access\": \"full\",\n",
    "        \"pipeline_enabled\": True\n",
    "}\n",
    "\n",
    "print(\"Algorithm namepace: {}\".format(algo_namespace))"
   ]
  },
  {
   "cell_type": "markdown",
   "metadata": {},
   "source": [
    "Let's now create an algorithm with the details & settings provided above."
   ]
  },
  {
   "cell_type": "code",
   "execution_count": 24,
   "metadata": {},
   "outputs": [
    {
     "data": {
      "text/plain": [
       "{'details': {'label': 'Algorithm Label',\n",
       "             'summary': 'Algorithm Summary',\n",
       "             'tagline': 'algorithm_tagline'},\n",
       " 'name': 'text_classification',\n",
       " 'self_link': None,\n",
       " 'settings': {'algorithm_callability': 'private',\n",
       "              'environment': None,\n",
       "              'language': None,\n",
       "              'license': 'apl',\n",
       "              'network_access': 'full',\n",
       "              'package_set': 'tensorflow-gpu-1.12',\n",
       "              'pipeline_enabled': True,\n",
       "              'royalty_microcredits': None,\n",
       "              'source_visibility': 'closed'}}"
      ]
     },
     "execution_count": 24,
     "metadata": {},
     "output_type": "execute_result"
    }
   ],
   "source": [
    "# Create a new algorithm\n",
    "client.algo(algo_namespace).create(details, settings)"
   ]
  },
  {
   "cell_type": "markdown",
   "metadata": {},
   "source": [
    "Voila! Our algorithm now exists!\n",
    "\n",
    "We can now start working on our code."
   ]
  },
  {
   "cell_type": "markdown",
   "metadata": {},
   "source": [
    "### Git clone our algorithm locally\n",
    "\n",
    "Now it's time to git clone our algorithm."
   ]
  },
  {
   "cell_type": "code",
   "execution_count": 25,
   "metadata": {},
   "outputs": [],
   "source": [
    "import urllib.parse\n",
    "from git import Git, Repo\n",
    "\n",
    "# Encode API key, so we can use it in the git URL\n",
    "encoded_api_key= urllib.parse.quote_plus(api_key)\n",
    "\n",
    "algo_repo = \"https://{}:{}@git.algorithmia.com/git/{}/{}.git\".format(username, encoded_api_key, username, algoname)\n",
    "\n",
    "_ = Git(local_dir).clone(algo_repo)\n",
    "cloned_repo = Repo(\"{}/{}\".format(local_dir, algoname))"
   ]
  },
  {
   "cell_type": "markdown",
   "metadata": {},
   "source": [
    "### Algorithm Code Structure\n",
    "\n",
    "The algorithm repo structure looks something like this:\n",
    "\n",
    "* `<algoname>`/\n",
    "    * src/\n",
    "        * `<algoname>`.py\n",
    "        * `<algoname>`_test.py\n",
    "    * algorithmia.conf\n",
    "    * requirements.txt\n",
    "\n",
    "We're only interested in two files: `<algoname>`.py & requirements.txt"
   ]
  },
  {
   "cell_type": "code",
   "execution_count": 26,
   "metadata": {},
   "outputs": [],
   "source": [
    "algo_script_path = \"{}/{}/src/{}.py\".format(local_dir, algoname, algoname)\n",
    "dependency_file_path = \"{}/{}/{}\".format(local_dir, algoname, \"requirements.txt\")"
   ]
  },
  {
   "cell_type": "markdown",
   "metadata": {},
   "source": [
    "### Algorithm Script\n",
    "We now want to change the default script with our inference script.\n",
    "\n",
    "There's only four things you need to keep in mind:\n",
    "\n",
    "* Import your libraries. (algorithmia included)\n",
    "* Download & load your model\n",
    "* Put all of your inference code under the `apply()` function.\n",
    "* Make sure to return a python primitive. (eg. string, list, dicts, or combinations of three)"
   ]
  },
  {
   "cell_type": "code",
   "execution_count": 27,
   "metadata": {},
   "outputs": [
    {
     "name": "stdout",
     "output_type": "stream",
     "text": [
      "Overwriting algo/text_classification/src/text_classification.py\n"
     ]
    }
   ],
   "source": [
    "%%writefile $algo_script_path\n",
    "import Algorithmia\n",
    "from tensorflow import keras\n",
    "import numpy as np\n",
    "import pickle\n",
    "\n",
    "# Create our Algorithmia client\n",
    "client = Algorithmia.client()\n",
    "\n",
    "# Define where our files live in our data collection\n",
    "data_model = \"data://.my/mycollection/text_classification_model.h5\"\n",
    "data_word_index = \"data://.my/mycollection/word_index.pickle\"\n",
    "\n",
    "# Download & initialize our model\n",
    "model_file = client.file(data_model).getFile().name\n",
    "model = keras.models.load_model(model_file)\n",
    "\n",
    "# Download & initialize our word index\n",
    "word_index_file = client.file(data_word_index).getFile().name\n",
    "with open(word_index_file, \"rb\") as fh:\n",
    "    word_index = pickle.load(fh)\n",
    "\n",
    "# Function for vectorizing our input text\n",
    "def vectorize_text(text):\n",
    "    vector = []\n",
    "    words = text.split(\" \")\n",
    "    for word in words:\n",
    "        if word in word_index:\n",
    "            vector.append(word_index[word])\n",
    "    \n",
    "    return keras.preprocessing.sequence.pad_sequences([np.array(vector, dtype=np.int32)],\n",
    "                                               value=word_index[\"<PAD>\"],\n",
    "                                               padding='post',\n",
    "                                               maxlen=256)\n",
    "\n",
    "def apply(input):\n",
    "    # Get input text\n",
    "    input_text = input[\"text\"]\n",
    "    # Vectorize input text\n",
    "    input_vector = vectorize_text(input_text)\n",
    "    # Get probability using our model\n",
    "    prob = float(model.predict(input_vector)[0][0])\n",
    "    # Return result back to user\n",
    "    return {\"prob\": prob}"
   ]
  },
  {
   "cell_type": "markdown",
   "metadata": {},
   "source": [
    "### Algorithm dependency file\n",
    "\n",
    "Let's also define the package our algorithm depends on."
   ]
  },
  {
   "cell_type": "code",
   "execution_count": 28,
   "metadata": {},
   "outputs": [
    {
     "name": "stdout",
     "output_type": "stream",
     "text": [
      "Overwriting algo/text_classification/requirements.txt\n"
     ]
    }
   ],
   "source": [
    "%%writefile $dependency_file_path\n",
    "algorithmia>=1.0.0,<2.0\n",
    "six\n",
    "tensorflow-gpu==1.12.0"
   ]
  },
  {
   "cell_type": "markdown",
   "metadata": {},
   "source": [
    "### Upload our source code\n",
    "\n",
    "We can now git add, commit and push our code to Algorithmia."
   ]
  },
  {
   "cell_type": "code",
   "execution_count": 29,
   "metadata": {},
   "outputs": [
    {
     "data": {
      "text/plain": [
       "[(100644, a4095d6503460be5775a598399180c2648b9ddf8, 0, src/text_classification.py),\n",
       " (100644, 0dc1fbffb5932db7e33d30a28626629d3cb9953b, 0, requirements.txt)]"
      ]
     },
     "execution_count": 29,
     "metadata": {},
     "output_type": "execute_result"
    }
   ],
   "source": [
    "files = [\"src/{}.py\".format(algoname), \"requirements.txt\"]\n",
    "cloned_repo.index.add(files)"
   ]
  },
  {
   "cell_type": "code",
   "execution_count": 30,
   "metadata": {},
   "outputs": [
    {
     "data": {
      "text/plain": [
       "<git.Commit \"ddafa47e4c3960caecd788d4c9fd8a5769835285\">"
      ]
     },
     "execution_count": 30,
     "metadata": {},
     "output_type": "execute_result"
    }
   ],
   "source": [
    "cloned_repo.index.commit(\"Add algorithm files\")"
   ]
  },
  {
   "cell_type": "code",
   "execution_count": 31,
   "metadata": {},
   "outputs": [
    {
     "data": {
      "text/plain": [
       "[<git.remote.PushInfo at 0x1377c1938>]"
      ]
     },
     "execution_count": 31,
     "metadata": {},
     "output_type": "execute_result"
    }
   ],
   "source": [
    "origin = cloned_repo.remote(name='origin')\n",
    "origin.push()"
   ]
  },
  {
   "cell_type": "markdown",
   "metadata": {},
   "source": [
    "When we successfully git push, it means that the algorithm has also compiled."
   ]
  },
  {
   "cell_type": "markdown",
   "metadata": {},
   "source": [
    "### Call & test our algorithm\n",
    "\n",
    "To be able to call & test our algorithm, we need to latest hash version:"
   ]
  },
  {
   "cell_type": "code",
   "execution_count": 32,
   "metadata": {},
   "outputs": [],
   "source": [
    "latest_hash = client.algo(algo_namespace).info().version_info.git_hash"
   ]
  },
  {
   "cell_type": "markdown",
   "metadata": {},
   "source": [
    "Let's also define our function for calling our API endpoint"
   ]
  },
  {
   "cell_type": "code",
   "execution_count": 33,
   "metadata": {},
   "outputs": [],
   "source": [
    "# Call algorithm until the algo hash endpoint becomes available, up to 10 seconds\n",
    "@retry(AlgorithmException, tries=10, delay=1)\n",
    "def get_probability(ALGO, VERSION, INPUT):\n",
    "    return client.algo(\"{}/{}\".format(ALGO, VERSION)).pipe(INPUT).result[\"prob\"]"
   ]
  },
  {
   "cell_type": "markdown",
   "metadata": {},
   "source": [
    "Let's now call our new API endpoint with the latest hash:"
   ]
  },
  {
   "cell_type": "code",
   "execution_count": 34,
   "metadata": {},
   "outputs": [
    {
     "name": "stdout",
     "output_type": "stream",
     "text": [
      "Probability for test is: 0.6461778879165649\n"
     ]
    }
   ],
   "source": [
    "algo_input = {\n",
    "    \"text\": \"This is a very positive review for the movie. I absolutely loved it!\"\n",
    "}\n",
    "\n",
    "# Call the algorithm endpoint with the latest hash\n",
    "prob = get_probability(algo_namespace, latest_hash, algo_input)\n",
    "\n",
    "print(\"Probability for test is: {}\".format(prob))"
   ]
  },
  {
   "cell_type": "markdown",
   "metadata": {},
   "source": [
    "We just called our model that was deployed behind a infinitely scalable API endpoint.\n",
    "\n",
    "Once we're happy with our algoritm, we can go ahead and publish it:"
   ]
  },
  {
   "cell_type": "code",
   "execution_count": 35,
   "metadata": {},
   "outputs": [
    {
     "data": {
      "text/plain": [
       "{'compilation': {'output': None, 'successful': True},\n",
       " 'details': {'label': 'Algorithm Label',\n",
       "             'summary': 'Algorithm Summary',\n",
       "             'tagline': 'algorithm_tagline'},\n",
       " 'name': 'text_classification',\n",
       " 'resource_type': 'algorithm',\n",
       " 'self_link': None,\n",
       " 'settings': {'algorithm_callability': 'private',\n",
       "              'environment': None,\n",
       "              'language': None,\n",
       "              'license': 'apl',\n",
       "              'network_access': 'full',\n",
       "              'package_set': 'tensorflow-gpu-1.12',\n",
       "              'pipeline_enabled': True,\n",
       "              'royalty_microcredits': None,\n",
       "              'source_visibility': 'closed'},\n",
       " 'version_info': {'git_hash': 'ddafa47e4c3960caecd788d4c9fd8a5769835285',\n",
       "                  'release_notes': None,\n",
       "                  'sample_input': None,\n",
       "                  'sample_output': None,\n",
       "                  'semantic_version': '0.1.0'}}"
      ]
     },
     "execution_count": 35,
     "metadata": {},
     "output_type": "execute_result"
    }
   ],
   "source": [
    "# Now let's publish/deploy our algorithm\n",
    "client.algo(algo_namespace).publish()"
   ]
  },
  {
   "cell_type": "markdown",
   "metadata": {},
   "source": [
    "Let's get the latest published semantic version:"
   ]
  },
  {
   "cell_type": "code",
   "execution_count": 36,
   "metadata": {},
   "outputs": [],
   "source": [
    "latest_version = client.algo(algo_namespace).info().version_info.semantic_version"
   ]
  },
  {
   "cell_type": "markdown",
   "metadata": {},
   "source": [
    "We can now call this published endpoint too:"
   ]
  },
  {
   "cell_type": "code",
   "execution_count": 37,
   "metadata": {},
   "outputs": [
    {
     "name": "stdout",
     "output_type": "stream",
     "text": [
      "Probability for test is: 0.6461778879165649\n"
     ]
    }
   ],
   "source": [
    "# Call the algorithm endpoint with the latest version\n",
    "prob = get_probability(algo_namespace, latest_version, algo_input)\n",
    "\n",
    "print(\"Probability for test is: {}\".format(prob))"
   ]
  },
  {
   "cell_type": "markdown",
   "metadata": {},
   "source": [
    "You just successfully deployed your Tensorflow model!\n",
    "\n",
    "You can call this API endpoint from anywhere: your mobile app, your website, and more..."
   ]
  },
  {
   "cell_type": "markdown",
   "metadata": {},
   "source": [
    "### License\n",
    "\n",
    "This notebook is based on the guide from: https://www.tensorflow.org/tutorials/keras/basic_text_classification"
   ]
  },
  {
   "cell_type": "code",
   "execution_count": 38,
   "metadata": {},
   "outputs": [],
   "source": [
    "#@title MIT License\n",
    "#\n",
    "# Copyright (c) 2017 François Chollet\n",
    "#\n",
    "# Permission is hereby granted, free of charge, to any person obtaining a\n",
    "# copy of this software and associated documentation files (the \"Software\"),\n",
    "# to deal in the Software without restriction, including without limitation\n",
    "# the rights to use, copy, modify, merge, publish, distribute, sublicense,\n",
    "# and/or sell copies of the Software, and to permit persons to whom the\n",
    "# Software is furnished to do so, subject to the following conditions:\n",
    "#\n",
    "# The above copyright notice and this permission notice shall be included in\n",
    "# all copies or substantial portions of the Software.\n",
    "#\n",
    "# THE SOFTWARE IS PROVIDED \"AS IS\", WITHOUT WARRANTY OF ANY KIND, EXPRESS OR\n",
    "# IMPLIED, INCLUDING BUT NOT LIMITED TO THE WARRANTIES OF MERCHANTABILITY,\n",
    "# FITNESS FOR A PARTICULAR PURPOSE AND NONINFRINGEMENT. IN NO EVENT SHALL\n",
    "# THE AUTHORS OR COPYRIGHT HOLDERS BE LIABLE FOR ANY CLAIM, DAMAGES OR OTHER\n",
    "# LIABILITY, WHETHER IN AN ACTION OF CONTRACT, TORT OR OTHERWISE, ARISING\n",
    "# FROM, OUT OF OR IN CONNECTION WITH THE SOFTWARE OR THE USE OR OTHER\n",
    "# DEALINGS IN THE SOFTWARE."
   ]
  }
 ],
 "metadata": {
  "kernelspec": {
   "display_name": "Python 3",
   "language": "python",
   "name": "python3"
  },
  "language_info": {
   "codemirror_mode": {
    "name": "ipython",
    "version": 3
   },
   "file_extension": ".py",
   "mimetype": "text/x-python",
   "name": "python",
   "nbconvert_exporter": "python",
   "pygments_lexer": "ipython3",
   "version": "3.6.5"
  }
 },
 "nbformat": 4,
 "nbformat_minor": 2
}
